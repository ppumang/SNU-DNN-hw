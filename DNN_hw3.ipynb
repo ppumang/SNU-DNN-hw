{
  "nbformat": 4,
  "nbformat_minor": 0,
  "metadata": {
    "colab": {
      "provenance": [],
      "collapsed_sections": []
    },
    "kernelspec": {
      "name": "python3",
      "display_name": "Python 3"
    },
    "language_info": {
      "name": "python"
    }
  },
  "cells": [
    {
      "cell_type": "markdown",
      "source": [
        "Problem 1"
      ],
      "metadata": {
        "id": "ouN-WvXtmq3P"
      }
    },
    {
      "cell_type": "code",
      "execution_count": null,
      "metadata": {
        "colab": {
          "base_uri": "https://localhost:8080/",
          "height": 462
        },
        "id": "cRumB9MWdoQQ",
        "outputId": "b828717c-15ef-4767-b8a1-24b0d1055658"
      },
      "outputs": [
        {
          "output_type": "display_data",
          "data": {
            "text/plain": [
              "<Figure size 432x288 with 1 Axes>"
            ],
            "image/png": "[encoded data removed]"
          },
          "metadata": {
            "needs_background": "light"
          }
        },
        {
          "output_type": "execute_result",
          "data": {
            "text/plain": [
              "'\\nWhen plotting torch tensors, you want to work with the\\ntorch.no_grad() context manager.\\n\\nWhen you call plt.plot(...) the torch tensors are first converted into\\nnumpy arrays and then the plotting proceeds.\\nHowever, our trainable model has requires_grad=True to allow automatic\\ngradient computation via backprop, and this option prevents \\nconverting the torch tensor output by the model to a numpy array.\\nUsing the torch.no_grad() context manager resolves this problem\\nas all tensors are set to requires_grad=False within the context manager.\\n\\nAn alternative to using the context manager is to do \\nplt.plot(xx, model(xx).detach().clone())\\nThe .detach().clone() operation create a copied pytorch tensor that\\nhas requires_grad=False.\\n\\nTo be more precise, .detach() creates another tensor with requires_grad=False\\n(it is detached from the computation graph) but this tensor shares the same\\nunderlying data with the original tensor. Therefore, this is not a genuine\\ncopy (not a deep copy) and modifying the detached tensor will affect the \\noriginal tensor is weird ways. The .clone() further proceeds to create a\\ngenuine copy of the detached tensor, and one can freely manipulate and change it.\\n(For the purposes of plotting, it is fine to just call .detach() without\\n.clone() since plotting does not change the tensor.)\\n\\nThis discussion will likely not make sense to most students at this point of the course.\\nWe will revisit this issue after we cover backpropagation.\\n\\n'"
            ],
            "application/vnd.google.colaboratory.intrinsic+json": {
              "type": "string"
            }
          },
          "metadata": {},
          "execution_count": 30
        }
      ],
      "source": [
        "import torch\n",
        "import numpy as np\n",
        "from torch import nn, optim\n",
        "from torch.nn import functional as F\n",
        "from torch.utils.data import TensorDataset, DataLoader\n",
        "import matplotlib.pyplot as plt\n",
        "from sklearn.model_selection import train_test_split\n",
        "\n",
        "alpha = 0.1\n",
        "K = 1000\n",
        "B = 128\n",
        "N = 512\n",
        "\n",
        "def f_true(x) :\n",
        "    return (x-2) * np.cos(x*4)\n",
        "\n",
        "torch.manual_seed(0)\n",
        "X_train = torch.normal(0.0, 1.0, (N,))\n",
        "y_train = f_true(X_train)\n",
        "X_val = torch.normal(0.0, 1.0, (N//5,))\n",
        "y_val = f_true(X_val)\n",
        "\n",
        "train_dataloader = DataLoader(TensorDataset(X_train.unsqueeze(1), y_train.unsqueeze(1)), batch_size=B)\n",
        "test_dataloader = DataLoader(TensorDataset(X_val.unsqueeze(1), y_val.unsqueeze(1)), batch_size=B)\n",
        "\n",
        "'''\n",
        "unsqueeze(1) reshapes the data into dimension [N,1],\n",
        "where is 1 the dimension of an data point.\n",
        "\n",
        "The batchsize of the test dataloader should not affect the test result\n",
        "so setting batch_size=N may simplify your code.\n",
        "In practice, however, the batchsize for the training dataloader\n",
        "is usually chosen to be as large as possible while not exceeding\n",
        "the memory size of the GPU. In such cases, it is not possible to\n",
        "use a larger batchsize for the test dataloader.\n",
        "'''\n",
        "\n",
        "class MLP(nn.Module):\n",
        "    def __init__(self):\n",
        "        super().__init__() \n",
        "        self.fc1 = nn.Linear(1, 64, bias=True) \n",
        "        self.fc2 = nn.Linear(64, 64, bias=True)\n",
        "        self.fc3 = nn.Linear(64, 1, bias=True) \n",
        "    def forward(self, x):\n",
        "        x = torch.sigmoid(self.fc1(x))\n",
        "        x = torch.sigmoid(self.fc2(x))\n",
        "        x = self.fc3(x)\n",
        "        # x = torch.sigmoid(self.fc3(x))\n",
        "        # x = F.relu(self.fc3(x))\n",
        "        return x\n",
        "        \n",
        "        \n",
        "model = MLP()\n",
        "criterion = nn.MSELoss()\n",
        "optimizer = optim.Adam(model.parameters(), lr=alpha, weight_decay=1e-7)\n",
        "\n",
        "for epoch in range(K+1):\n",
        "\n",
        "  running_loss = 0.0\n",
        "\n",
        "  for i, data in enumerate(train_dataloader, 0): \n",
        "    \n",
        "    inputs, values = data \n",
        "\n",
        "    optimizer.zero_grad() \n",
        "\n",
        "    outputs = model(inputs) \n",
        "    loss = criterion(outputs, values)\n",
        "    loss.backward() \n",
        "    optimizer.step() \n",
        "\n",
        "    running_loss += loss.item() \n",
        "\n",
        "\n",
        "with torch.no_grad():\n",
        "    xx = torch.linspace(-2,2,1024).unsqueeze(1)\n",
        "    plt.plot(X_train,y_train,'rx',label='Data points')\n",
        "    plt.plot(xx,f_true(xx),'r',label='True Fn')\n",
        "    plt.plot(xx, model(xx),label='Learned Fn')\n",
        "plt.legend()\n",
        "plt.show()\n",
        "\n",
        "'''\n",
        "When plotting torch tensors, you want to work with the\n",
        "torch.no_grad() context manager.\n",
        "\n",
        "When you call plt.plot(...) the torch tensors are first converted into\n",
        "numpy arrays and then the plotting proceeds.\n",
        "However, our trainable model has requires_grad=True to allow automatic\n",
        "gradient computation via backprop, and this option prevents \n",
        "converting the torch tensor output by the model to a numpy array.\n",
        "Using the torch.no_grad() context manager resolves this problem\n",
        "as all tensors are set to requires_grad=False within the context manager.\n",
        "\n",
        "An alternative to using the context manager is to do \n",
        "plt.plot(xx, model(xx).detach().clone())\n",
        "The .detach().clone() operation create a copied pytorch tensor that\n",
        "has requires_grad=False.\n",
        "\n",
        "To be more precise, .detach() creates another tensor with requires_grad=False\n",
        "(it is detached from the computation graph) but this tensor shares the same\n",
        "underlying data with the original tensor. Therefore, this is not a genuine\n",
        "copy (not a deep copy) and modifying the detached tensor will affect the \n",
        "original tensor is weird ways. The .clone() further proceeds to create a\n",
        "genuine copy of the detached tensor, and one can freely manipulate and change it.\n",
        "(For the purposes of plotting, it is fine to just call .detach() without\n",
        ".clone() since plotting does not change the tensor.)\n",
        "\n",
        "This discussion will likely not make sense to most students at this point of the course.\n",
        "We will revisit this issue after we cover backpropagation.\n",
        "\n",
        "'''\n"
      ]
    },
    {
      "cell_type": "markdown",
      "source": [
        "Problem2"
      ],
      "metadata": {
        "id": "vueHAA5Rt0Ro"
      }
    },
    {
      "cell_type": "code",
      "source": [
        "# trainable parameters = 64 + 64*64 + 64 = 4224\n",
        "import torch\n",
        "import numpy as np\n",
        "from torch import nn, optim\n",
        "from torch.nn import functional as F\n",
        "from torch.utils.data import TensorDataset, DataLoader\n",
        "import matplotlib.pyplot as plt\n",
        "from sklearn.model_selection import train_test_split\n",
        "\n",
        "alpha = 0.1\n",
        "K = 1000\n",
        "B = 128\n",
        "N = 512\n",
        "\n",
        "def f_true(x) :\n",
        "    return (x-2) * np.cos(x*4)\n",
        "\n",
        "torch.manual_seed(0)\n",
        "X_train = torch.normal(0.0, 1.0, (N,))\n",
        "y_train = f_true(X_train) + torch.normal(0, 0.5, X_train.shape)\n",
        "X_val = torch.normal(0.0, 1.0, (N//5,))\n",
        "y_val = f_true(X_val)\n",
        "\n",
        "train_dataloader = DataLoader(TensorDataset(X_train.unsqueeze(1), y_train.unsqueeze(1)), batch_size=B)\n",
        "test_dataloader = DataLoader(TensorDataset(X_val.unsqueeze(1), y_val.unsqueeze(1)), batch_size=B)\n",
        "\n",
        "'''\n",
        "unsqueeze(1) reshapes the data into dimension [N,1],\n",
        "where is 1 the dimension of an data point.\n",
        "\n",
        "The batchsize of the test dataloader should not affect the test result\n",
        "so setting batch_size=N may simplify your code.\n",
        "In practice, however, the batchsize for the training dataloader\n",
        "is usually chosen to be as large as possible while not exceeding\n",
        "the memory size of the GPU. In such cases, it is not possible to\n",
        "use a larger batchsize for the test dataloader.\n",
        "'''\n",
        "\n",
        "class MLP(nn.Module):\n",
        "    def __init__(self):\n",
        "        super().__init__() \n",
        "        self.fc1 = nn.Linear(1, 64, bias=True) \n",
        "        self.fc2 = nn.Linear(64, 64, bias=True)\n",
        "        self.fc3 = nn.Linear(64, 1, bias=True) \n",
        "    def forward(self, x):\n",
        "        x = torch.sigmoid(self.fc1(x))\n",
        "        x = torch.sigmoid(self.fc2(x))\n",
        "        x = self.fc3(x)\n",
        "        # x = torch.sigmoid(self.fc3(x))\n",
        "        # x = F.relu(self.fc3(x))\n",
        "        return x\n",
        "        \n",
        "        \n",
        "model = MLP()\n",
        "criterion = nn.MSELoss()\n",
        "optimizer = optim.Adam(model.parameters(), lr=alpha, weight_decay=1e-7)\n",
        "\n",
        "for epoch in range(K+1):\n",
        "\n",
        "  running_loss = 0.0\n",
        "\n",
        "  for i, data in enumerate(train_dataloader, 0): \n",
        "    \n",
        "    inputs, values = data \n",
        "\n",
        "    optimizer.zero_grad() \n",
        "\n",
        "    outputs = model(inputs) \n",
        "    loss = criterion(outputs, values)\n",
        "    loss.backward() \n",
        "    optimizer.step() \n",
        "\n",
        "    running_loss += loss.item() \n",
        "\n",
        "\n",
        "with torch.no_grad():\n",
        "    xx = torch.linspace(-2,2,1024).unsqueeze(1)\n",
        "    plt.plot(X_train,y_train,'rx',label='Data points')\n",
        "    plt.plot(xx,f_true(xx),'r',label='True Fn')\n",
        "    plt.plot(xx, model(xx),label='Learned Fn')\n",
        "plt.legend()\n",
        "plt.show()\n",
        "\n",
        "'''\n",
        "When plotting torch tensors, you want to work with the\n",
        "torch.no_grad() context manager.\n",
        "\n",
        "When you call plt.plot(...) the torch tensors are first converted into\n",
        "numpy arrays and then the plotting proceeds.\n",
        "However, our trainable model has requires_grad=True to allow automatic\n",
        "gradient computation via backprop, and this option prevents \n",
        "converting the torch tensor output by the model to a numpy array.\n",
        "Using the torch.no_grad() context manager resolves this problem\n",
        "as all tensors are set to requires_grad=False within the context manager.\n",
        "\n",
        "An alternative to using the context manager is to do \n",
        "plt.plot(xx, model(xx).detach().clone())\n",
        "The .detach().clone() operation create a copied pytorch tensor that\n",
        "has requires_grad=False.\n",
        "\n",
        "To be more precise, .detach() creates another tensor with requires_grad=False\n",
        "(it is detached from the computation graph) but this tensor shares the same\n",
        "underlying data with the original tensor. Therefore, this is not a genuine\n",
        "copy (not a deep copy) and modifying the detached tensor will affect the \n",
        "original tensor is weird ways. The .clone() further proceeds to create a\n",
        "genuine copy of the detached tensor, and one can freely manipulate and change it.\n",
        "(For the purposes of plotting, it is fine to just call .detach() without\n",
        ".clone() since plotting does not change the tensor.)\n",
        "\n",
        "This discussion will likely not make sense to most students at this point of the course.\n",
        "We will revisit this issue after we cover backpropagation.\n",
        "\n",
        "'''\n"
      ],
      "metadata": {
        "colab": {
          "base_uri": "https://localhost:8080/",
          "height": 462
        },
        "id": "AIzHJPKLtu8i",
        "outputId": "0892bbed-0b0f-438c-dd22-f204a553661a"
      },
      "execution_count": null,
      "outputs": [
        {
          "output_type": "display_data",
          "data": {
            "text/plain": [
              "<Figure size 432x288 with 1 Axes>"
            ],
            "image/png": "[encoded data removed]"
          },
          "metadata": {
            "needs_background": "light"
          }
        },
        {
          "output_type": "execute_result",
          "data": {
            "text/plain": [
              "'\\nWhen plotting torch tensors, you want to work with the\\ntorch.no_grad() context manager.\\n\\nWhen you call plt.plot(...) the torch tensors are first converted into\\nnumpy arrays and then the plotting proceeds.\\nHowever, our trainable model has requires_grad=True to allow automatic\\ngradient computation via backprop, and this option prevents \\nconverting the torch tensor output by the model to a numpy array.\\nUsing the torch.no_grad() context manager resolves this problem\\nas all tensors are set to requires_grad=False within the context manager.\\n\\nAn alternative to using the context manager is to do \\nplt.plot(xx, model(xx).detach().clone())\\nThe .detach().clone() operation create a copied pytorch tensor that\\nhas requires_grad=False.\\n\\nTo be more precise, .detach() creates another tensor with requires_grad=False\\n(it is detached from the computation graph) but this tensor shares the same\\nunderlying data with the original tensor. Therefore, this is not a genuine\\ncopy (not a deep copy) and modifying the detached tensor will affect the \\noriginal tensor is weird ways. The .clone() further proceeds to create a\\ngenuine copy of the detached tensor, and one can freely manipulate and change it.\\n(For the purposes of plotting, it is fine to just call .detach() without\\n.clone() since plotting does not change the tensor.)\\n\\nThis discussion will likely not make sense to most students at this point of the course.\\nWe will revisit this issue after we cover backpropagation.\\n\\n'"
            ],
            "application/vnd.google.colaboratory.intrinsic+json": {
              "type": "string"
            }
          },
          "metadata": {},
          "execution_count": 31
        }
      ]
    },
    {
      "cell_type": "markdown",
      "source": [
        "Problem5"
      ],
      "metadata": {
        "id": "jrCwKF6YwMY-"
      }
    },
    {
      "cell_type": "code",
      "source": [],
      "metadata": {
        "id": "Zfi8eRBuwN6p"
      },
      "execution_count": null,
      "outputs": []
    }
  ]
}